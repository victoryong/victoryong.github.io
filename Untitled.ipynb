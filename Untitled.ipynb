{
 "cells": [
  {
   "cell_type": "code",
   "execution_count": 1,
   "metadata": {},
   "outputs": [],
   "source": [
    "import nmap\n",
    "import os"
   ]
  },
  {
   "cell_type": "code",
   "execution_count": 2,
   "metadata": {},
   "outputs": [],
   "source": [
    "os.environ['PATH'] = os.environ['PATH'] + r';C:\\Program Files (x86)\\Nmap'\n",
    "scan = nmap.PortScanner()"
   ]
  },
  {
   "cell_type": "code",
   "execution_count": 5,
   "metadata": {
    "collapsed": true
   },
   "outputs": [
    {
     "data": {
      "text/plain": [
       "{'nmap': {'command_line': 'nmap -oX - -p 0-100,8900-9500 -sV 192.168.3.129',\n",
       "  'scaninfo': {'tcp': {'method': 'syn', 'services': '0-100,8900-9500'}},\n",
       "  'scanstats': {'timestr': 'Mon May 24 17:10:49 2021',\n",
       "   'elapsed': '12.34',\n",
       "   'uphosts': '1',\n",
       "   'downhosts': '0',\n",
       "   'totalhosts': '1'}},\n",
       " 'scan': {'192.168.3.129': {'hostnames': [{'name': '', 'type': ''}],\n",
       "   'addresses': {'ipv4': '192.168.3.129', 'mac': '00:0C:29:E8:2E:BE'},\n",
       "   'vendor': {'00:0C:29:E8:2E:BE': 'VMware'},\n",
       "   'status': {'state': 'up', 'reason': 'arp-response'},\n",
       "   'tcp': {22: {'state': 'open',\n",
       "     'reason': 'syn-ack',\n",
       "     'name': 'ssh',\n",
       "     'product': 'OpenSSH',\n",
       "     'version': '7.4',\n",
       "     'extrainfo': 'protocol 2.0',\n",
       "     'conf': '10',\n",
       "     'cpe': 'cpe:/a:openbsd:openssh:7.4'},\n",
       "    9000: {'state': 'open',\n",
       "     'reason': 'syn-ack',\n",
       "     'name': 'hadoop-ipc',\n",
       "     'product': 'Hadoop IPC',\n",
       "     'version': '',\n",
       "     'extrainfo': '',\n",
       "     'conf': '10',\n",
       "     'cpe': 'cpe:/a:apache:hadoop'},\n",
       "    9200: {'state': 'open',\n",
       "     'reason': 'syn-ack',\n",
       "     'name': 'http',\n",
       "     'product': 'Elasticsearch REST API',\n",
       "     'version': '7.1.0',\n",
       "     'extrainfo': 'name: node-1; cluster: elasticsearch; Lucene 8.0.0',\n",
       "     'conf': '10',\n",
       "     'cpe': 'cpe:/a:elasticsearch:elasticsearch:7.1.0'},\n",
       "    9300: {'state': 'open',\n",
       "     'reason': 'syn-ack',\n",
       "     'name': 'vrace',\n",
       "     'product': '',\n",
       "     'version': '',\n",
       "     'extrainfo': '',\n",
       "     'conf': '3',\n",
       "     'cpe': ''}}}}}"
      ]
     },
     "execution_count": 5,
     "metadata": {},
     "output_type": "execute_result"
    }
   ],
   "source": [
    "scan.scan(hosts='192.168.3.129', ports='0-100,8900-9500')"
   ]
  },
  {
   "cell_type": "code",
   "execution_count": 6,
   "metadata": {
    "collapsed": true
   },
   "outputs": [
    {
     "data": {
      "text/plain": [
       "{'hostnames': [{'name': '', 'type': ''}],\n",
       " 'addresses': {'ipv4': '192.168.3.129', 'mac': '00:0C:29:E8:2E:BE'},\n",
       " 'vendor': {'00:0C:29:E8:2E:BE': 'VMware'},\n",
       " 'status': {'state': 'up', 'reason': 'arp-response'},\n",
       " 'tcp': {22: {'state': 'open',\n",
       "   'reason': 'syn-ack',\n",
       "   'name': 'ssh',\n",
       "   'product': 'OpenSSH',\n",
       "   'version': '7.4',\n",
       "   'extrainfo': 'protocol 2.0',\n",
       "   'conf': '10',\n",
       "   'cpe': 'cpe:/a:openbsd:openssh:7.4'},\n",
       "  9000: {'state': 'open',\n",
       "   'reason': 'syn-ack',\n",
       "   'name': 'hadoop-ipc',\n",
       "   'product': 'Hadoop IPC',\n",
       "   'version': '',\n",
       "   'extrainfo': '',\n",
       "   'conf': '10',\n",
       "   'cpe': 'cpe:/a:apache:hadoop'},\n",
       "  9200: {'state': 'open',\n",
       "   'reason': 'syn-ack',\n",
       "   'name': 'http',\n",
       "   'product': 'Elasticsearch REST API',\n",
       "   'version': '7.1.0',\n",
       "   'extrainfo': 'name: node-1; cluster: elasticsearch; Lucene 8.0.0',\n",
       "   'conf': '10',\n",
       "   'cpe': 'cpe:/a:elasticsearch:elasticsearch:7.1.0'},\n",
       "  9300: {'state': 'open',\n",
       "   'reason': 'syn-ack',\n",
       "   'name': 'vrace',\n",
       "   'product': '',\n",
       "   'version': '',\n",
       "   'extrainfo': '',\n",
       "   'conf': '3',\n",
       "   'cpe': ''}}}"
      ]
     },
     "execution_count": 6,
     "metadata": {},
     "output_type": "execute_result"
    }
   ],
   "source": [
    "scan['192.168.3.129']"
   ]
  },
  {
   "cell_type": "code",
   "execution_count": 127,
   "metadata": {},
   "outputs": [],
   "source": [
    "import re\n",
    "import regex\n",
    "s = \"df[]\\[\\]\""
   ]
  },
  {
   "cell_type": "code",
   "execution_count": 112,
   "metadata": {},
   "outputs": [
    {
     "data": {
      "text/plain": [
       "'df[]\\\\[\\\\]'"
      ]
     },
     "execution_count": 112,
     "metadata": {},
     "output_type": "execute_result"
    }
   ],
   "source": [
    "s"
   ]
  },
  {
   "cell_type": "code",
   "execution_count": 115,
   "metadata": {
    "scrolled": false
   },
   "outputs": [
    {
     "data": {
      "text/plain": [
       "'d\\\\f\\\\[]\\\\\\\\[\\\\\\\\]'"
      ]
     },
     "execution_count": 115,
     "metadata": {},
     "output_type": "execute_result"
    }
   ],
   "source": [
    "b = re.sub(r'([^\\])([\\[\\]])', lambda x: x.group(1) + '\\\\', s)\n",
    "b"
   ]
  },
  {
   "cell_type": "code",
   "execution_count": 144,
   "metadata": {},
   "outputs": [
    {
     "data": {
      "text/plain": [
       "'df--[]\\\\[\\\\]'"
      ]
     },
     "execution_count": 144,
     "metadata": {},
     "output_type": "execute_result"
    }
   ],
   "source": [
    "regex.findall(r'([^\\\\])([\\[\\]])', s, overlapped=True)\n",
    "regex.sub(r'([^\\\\])([\\[\\]])', '\\g<1>' + '--' + '\\g<2>', s)"
   ]
  },
  {
   "cell_type": "code",
   "execution_count": 74,
   "metadata": {},
   "outputs": [
    {
     "data": {
      "text/plain": [
       "'\\\\\\\\'"
      ]
     },
     "execution_count": 74,
     "metadata": {},
     "output_type": "execute_result"
    }
   ],
   "source": [
    "r'\\\\'"
   ]
  },
  {
   "cell_type": "code",
   "execution_count": 1,
   "metadata": {},
   "outputs": [
    {
     "data": {
      "text/plain": [
       "'asfas\\\\asdfasf\\\\'"
      ]
     },
     "execution_count": 1,
     "metadata": {},
     "output_type": "execute_result"
    }
   ],
   "source": [
    "'asfas\\\\asdfasf\\\\'"
   ]
  },
  {
   "cell_type": "code",
   "execution_count": 1,
   "metadata": {},
   "outputs": [
    {
     "name": "stdout",
     "output_type": "stream",
     "text": [
      "Enter password: ········\n",
      "Verify password: ········\n"
     ]
    },
    {
     "data": {
      "text/plain": [
       "'sha1:d2da287f2dbc:5654ae3fe0269f6e92ce3ceaf9efd434f7a36196'"
      ]
     },
     "execution_count": 1,
     "metadata": {},
     "output_type": "execute_result"
    }
   ],
   "source": [
    "from notebook.auth import passwd\n",
    "passwd()"
   ]
  }
 ],
 "metadata": {
  "kernelspec": {
   "display_name": "Python 3",
   "language": "python",
   "name": "python3"
  },
  "language_info": {
   "codemirror_mode": {
    "name": "ipython",
    "version": 3
   },
   "file_extension": ".py",
   "mimetype": "text/x-python",
   "name": "python",
   "nbconvert_exporter": "python",
   "pygments_lexer": "ipython3",
   "version": "3.8.3"
  },
  "varInspector": {
   "cols": {
    "lenName": 16,
    "lenType": 16,
    "lenVar": 40
   },
   "kernels_config": {
    "python": {
     "delete_cmd_postfix": "",
     "delete_cmd_prefix": "del ",
     "library": "var_list.py",
     "varRefreshCmd": "print(var_dic_list())"
    },
    "r": {
     "delete_cmd_postfix": ") ",
     "delete_cmd_prefix": "rm(",
     "library": "var_list.r",
     "varRefreshCmd": "cat(var_dic_list()) "
    }
   },
   "types_to_exclude": [
    "module",
    "function",
    "builtin_function_or_method",
    "instance",
    "_Feature"
   ],
   "window_display": false
  }
 },
 "nbformat": 4,
 "nbformat_minor": 4
}
